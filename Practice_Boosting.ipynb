{
 "cells": [
  {
   "cell_type": "markdown",
   "id": "c86edd3c-87cf-4699-85a2-01cd85ce60b2",
   "metadata": {},
   "source": [
    "Task-1:"
   ]
  },
  {
   "cell_type": "code",
   "execution_count": 47,
   "id": "d61cf281-07f0-48cb-930b-e72469ffc680",
   "metadata": {},
   "outputs": [
    {
     "name": "stdout",
     "output_type": "stream",
     "text": [
      "Fold 1: Accuracy = 0.9542 | ROC-AUC = 0.8297\n",
      "Fold 2: Accuracy = 0.9552 | ROC-AUC = 0.8346\n",
      "Fold 3: Accuracy = 0.9572 | ROC-AUC = 0.8509\n",
      "Fold 4: Accuracy = 0.9562 | ROC-AUC = 0.8279\n",
      "Fold 5: Accuracy = 0.9541 | ROC-AUC = 0.8473\n",
      "Mean Accuracy: 0.9554\n",
      "Mean ROC-AUC : 0.8381\n"
     ]
    }
   ],
   "source": [
    "import pandas as pd\n",
    "import numpy as np\n",
    "from sklearn.model_selection import StratifiedKFold\n",
    "from sklearn.ensemble import GradientBoostingClassifier\n",
    "from sklearn.metrics import accuracy_score, roc_auc_score\n",
    "\n",
    "df=pd.read_csv(r\"C:\\Users\\DELL\\Downloads\\healthcare-dataset-stroke-data.csv\",encoding='latin1')\n",
    "\n",
    "df = df.drop(columns=[\"id\"])\n",
    "\n",
    "df = df.dropna()\n",
    "\n",
    "X = df.drop(columns=[\"stroke\"])\n",
    "y = df[\"stroke\"]\n",
    "\n",
    "X = pd.get_dummies(X, drop_first=True)\n",
    "\n",
    "model = GradientBoostingClassifier(\n",
    "    n_estimators=200,\n",
    "    learning_rate=0.05,\n",
    "    max_depth=3,\n",
    "    random_state=42\n",
    ")\n",
    "\n",
    "skf = StratifiedKFold(n_splits=5, shuffle=True, random_state=42)\n",
    "acc_scores, auc_scores = [], []\n",
    "\n",
    "for fold, (train_idx, test_idx) in enumerate(skf.split(X, y), start=1):\n",
    "    X_train, X_test = X.iloc[train_idx], X.iloc[test_idx]\n",
    "    y_train, y_test = y.iloc[train_idx], y.iloc[test_idx]\n",
    "\n",
    "    model.fit(X_train, y_train)\n",
    "    y_pred = model.predict(X_test)\n",
    "    y_proba = model.predict_proba(X_test)[:, 1]\n",
    "\n",
    "    acc = accuracy_score(y_test, y_pred)\n",
    "    auc = roc_auc_score(y_test, y_proba)\n",
    "\n",
    "    acc_scores.append(acc)\n",
    "    auc_scores.append(auc)\n",
    "\n",
    "    print(f\"Fold {fold}: Accuracy = {acc:.4f} | ROC-AUC = {auc:.4f}\")\n",
    "\n",
    "\n",
    "print(f\"Mean Accuracy: {np.mean(acc_scores):.4f}\")\n",
    "print(f\"Mean ROC-AUC : {np.mean(auc_scores):.4f}\")\n"
   ]
  },
  {
   "cell_type": "markdown",
   "id": "374ac0cd-6736-44af-9ccf-251edd034bdc",
   "metadata": {},
   "source": [
    "Task-2:"
   ]
  },
  {
   "cell_type": "code",
   "execution_count": 51,
   "id": "a6a1632d-15f8-4d75-9a0f-46ddf8c4086a",
   "metadata": {},
   "outputs": [
    {
     "name": "stdout",
     "output_type": "stream",
     "text": [
      "Fold 1: Accuracy = 0.9125 | ROC-AUC = 0.9208\n",
      "Fold 2: Accuracy = 0.9094 | ROC-AUC = 0.9124\n",
      "Fold 3: Accuracy = 0.9062 | ROC-AUC = 0.9125\n",
      "Fold 4: Accuracy = 0.8781 | ROC-AUC = 0.8701\n",
      "Fold 5: Accuracy = 0.9216 | ROC-AUC = 0.9179\n",
      "==================================================\n",
      "Mean Accuracy: 0.9056\n",
      "Mean ROC-AUC : 0.9067\n"
     ]
    }
   ],
   "source": [
    "import pandas as pd\n",
    "import numpy as np\n",
    "from sklearn.model_selection import train_test_split, StratifiedKFold\n",
    "from sklearn.metrics import accuracy_score, roc_auc_score\n",
    "from sklearn.ensemble import GradientBoostingClassifier\n",
    "\n",
    "# Load dataset\n",
    "df = pd.read_csv(r\"C:\\Users\\DELL\\Downloads\\winequality-red.csv\",encoding='latin1')  \n",
    "\n",
    "df[\"good_wine\"] = (df[\"quality\"] >= 7).astype(int)\n",
    "\n",
    "X = df.drop(columns=[\"quality\", \"good_wine\"])\n",
    "y = df[\"good_wine\"]\n",
    "\n",
    "# Initialize model\n",
    "model = GradientBoostingClassifier(\n",
    "    n_estimators=300,\n",
    "    learning_rate=0.05,\n",
    "    max_depth=3,\n",
    "    random_state=42\n",
    ")\n",
    "\n",
    "# Cross-validation\n",
    "skf = StratifiedKFold(n_splits=5, shuffle=True, random_state=42)\n",
    "acc_scores, auc_scores = [], []\n",
    "\n",
    "for fold, (train_idx, test_idx) in enumerate(skf.split(X, y), start=1):\n",
    "    X_train, X_test = X.iloc[train_idx], X.iloc[test_idx]\n",
    "    y_train, y_test = y.iloc[train_idx], y.iloc[test_idx]\n",
    "\n",
    "    model.fit(X_train, y_train)\n",
    "    y_pred = model.predict(X_test)\n",
    "    y_proba = model.predict_proba(X_test)[:, 1]\n",
    "\n",
    "    acc = accuracy_score(y_test, y_pred)\n",
    "    auc = roc_auc_score(y_test, y_proba)\n",
    "\n",
    "    acc_scores.append(acc)\n",
    "    auc_scores.append(auc)\n",
    "\n",
    "    print(f\"Fold {fold}: Accuracy = {acc:.4f} | ROC-AUC = {auc:.4f}\")\n",
    "\n",
    "print(\"=\"*50)\n",
    "print(f\"Mean Accuracy: {np.mean(acc_scores):.4f}\")\n",
    "print(f\"Mean ROC-AUC : {np.mean(auc_scores):.4f}\")\n"
   ]
  },
  {
   "cell_type": "markdown",
   "id": "f839cd64-9542-461e-be46-aeee76b1db4d",
   "metadata": {},
   "source": [
    "Task-3:"
   ]
  },
  {
   "cell_type": "code",
   "execution_count": 53,
   "id": "b3446e00-db82-41fd-a22b-8834f57116f8",
   "metadata": {},
   "outputs": [
    {
     "name": "stdout",
     "output_type": "stream",
     "text": [
      "Fold 1: Accuracy = 1.0000 | ROC-AUC = 1.0000\n",
      "Fold 2: Accuracy = 1.0000 | ROC-AUC = 1.0000\n",
      "Fold 3: Accuracy = 1.0000 | ROC-AUC = 1.0000\n",
      "Fold 4: Accuracy = 1.0000 | ROC-AUC = 1.0000\n",
      "Fold 5: Accuracy = 1.0000 | ROC-AUC = 1.0000\n",
      "==================================================\n",
      "Mean Accuracy: 1.0000\n",
      "Mean ROC-AUC : 1.0000\n"
     ]
    }
   ],
   "source": [
    "import pandas as pd\n",
    "import numpy as np\n",
    "from sklearn.model_selection import StratifiedKFold\n",
    "from sklearn.metrics import accuracy_score, roc_auc_score\n",
    "from xgboost import XGBClassifier\n",
    "\n",
    "# Load dataset\n",
    "df = pd.read_csv(r\"C:\\Users\\DELL\\Downloads\\mushrooms (1).csv\",encoding='latin1')\n",
    "\n",
    "# Encode target: 'p' = poisonous (1), 'e' = edible (0)\n",
    "y = df[\"class\"].map({\"p\": 1, \"e\": 0})\n",
    "\n",
    "# One-hot encode categorical features\n",
    "X = pd.get_dummies(df.drop(columns=[\"class\"]), drop_first=True)\n",
    "\n",
    "# Define model (no use_label_encoder so no warnings)\n",
    "model = XGBClassifier(\n",
    "    n_estimators=300,\n",
    "    learning_rate=0.05,\n",
    "    max_depth=4,\n",
    "    eval_metric=\"logloss\",\n",
    "    random_state=42\n",
    ")\n",
    "\n",
    "# Cross-validation\n",
    "skf = StratifiedKFold(n_splits=5, shuffle=True, random_state=42)\n",
    "acc_scores, auc_scores = [], []\n",
    "\n",
    "for fold, (train_idx, test_idx) in enumerate(skf.split(X, y), start=1):\n",
    "    X_train, X_test = X.iloc[train_idx], X.iloc[test_idx]\n",
    "    y_train, y_test = y.iloc[train_idx], y.iloc[test_idx]\n",
    "\n",
    "    model.fit(X_train, y_train)\n",
    "    y_pred = model.predict(X_test)\n",
    "    y_proba = model.predict_proba(X_test)[:, 1]\n",
    "\n",
    "    acc = accuracy_score(y_test, y_pred)\n",
    "    auc = roc_auc_score(y_test, y_proba)\n",
    "\n",
    "    acc_scores.append(acc)\n",
    "    auc_scores.append(auc)\n",
    "\n",
    "    print(f\"Fold {fold}: Accuracy = {acc:.4f} | ROC-AUC = {auc:.4f}\")\n",
    "\n",
    "print(\"=\"*50)\n",
    "print(f\"Mean Accuracy: {np.mean(acc_scores):.4f}\")\n",
    "print(f\"Mean ROC-AUC : {np.mean(auc_scores):.4f}\")\n"
   ]
  },
  {
   "cell_type": "code",
   "execution_count": null,
   "id": "a1b9245b-cbdb-4991-a7bd-124423dd9309",
   "metadata": {},
   "outputs": [],
   "source": []
  },
  {
   "cell_type": "code",
   "execution_count": null,
   "id": "264de704-a251-481b-80d0-998a19b66764",
   "metadata": {},
   "outputs": [],
   "source": []
  }
 ],
 "metadata": {
  "kernelspec": {
   "display_name": "Python 3 (ipykernel)",
   "language": "python",
   "name": "python3"
  },
  "language_info": {
   "codemirror_mode": {
    "name": "ipython",
    "version": 3
   },
   "file_extension": ".py",
   "mimetype": "text/x-python",
   "name": "python",
   "nbconvert_exporter": "python",
   "pygments_lexer": "ipython3",
   "version": "3.13.5"
  }
 },
 "nbformat": 4,
 "nbformat_minor": 5
}
